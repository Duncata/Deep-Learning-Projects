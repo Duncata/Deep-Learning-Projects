{
 "cells": [
  {
   "cell_type": "markdown",
   "metadata": {
    "colab_type": "text",
    "id": "lP6JLo1tGNBg"
   },
   "source": [
    "# Artificial Neural Network"
   ]
  },
  {
   "cell_type": "markdown",
   "metadata": {
    "colab_type": "text",
    "id": "gWZyYmS_UE_L"
   },
   "source": [
    "### Importing the libraries"
   ]
  },
  {
   "cell_type": "code",
   "execution_count": 1,
   "metadata": {
    "scrolled": true
   },
   "outputs": [
    {
     "ename": "ModuleNotFoundError",
     "evalue": "No module named 'pandas'",
     "output_type": "error",
     "traceback": [
      "\u001b[1;31m---------------------------------------------------------------------------\u001b[0m",
      "\u001b[1;31mModuleNotFoundError\u001b[0m                       Traceback (most recent call last)",
      "\u001b[1;32m<ipython-input-1-af52a695d594>\u001b[0m in \u001b[0;36m<module>\u001b[1;34m\u001b[0m\n\u001b[0;32m      1\u001b[0m \u001b[1;32mimport\u001b[0m \u001b[0mnumpy\u001b[0m \u001b[1;32mas\u001b[0m \u001b[0mnp\u001b[0m\u001b[1;33m\u001b[0m\u001b[1;33m\u001b[0m\u001b[0m\n\u001b[1;32m----> 2\u001b[1;33m \u001b[1;32mimport\u001b[0m \u001b[0mpandas\u001b[0m \u001b[1;32mas\u001b[0m \u001b[0mpd\u001b[0m\u001b[1;33m\u001b[0m\u001b[1;33m\u001b[0m\u001b[0m\n\u001b[0m\u001b[0;32m      3\u001b[0m \u001b[1;32mimport\u001b[0m \u001b[0mtensorflow\u001b[0m \u001b[1;32mas\u001b[0m \u001b[0mtf\u001b[0m\u001b[1;33m\u001b[0m\u001b[1;33m\u001b[0m\u001b[0m\n",
      "\u001b[1;31mModuleNotFoundError\u001b[0m: No module named 'pandas'"
     ]
    }
   ],
   "source": [
    "import numpy as np\n",
    "import pandas as pd\n",
    "import tensorflow as tf"
   ]
  },
  {
   "cell_type": "code",
   "execution_count": 2,
   "metadata": {},
   "outputs": [
    {
     "ename": "NameError",
     "evalue": "name 'tf' is not defined",
     "output_type": "error",
     "traceback": [
      "\u001b[1;31m---------------------------------------------------------------------------\u001b[0m",
      "\u001b[1;31mNameError\u001b[0m                                 Traceback (most recent call last)",
      "\u001b[1;32m<ipython-input-2-65996cac02ec>\u001b[0m in \u001b[0;36m<module>\u001b[1;34m\u001b[0m\n\u001b[1;32m----> 1\u001b[1;33m \u001b[0mtf\u001b[0m\u001b[1;33m.\u001b[0m\u001b[0m__version__\u001b[0m\u001b[1;33m\u001b[0m\u001b[1;33m\u001b[0m\u001b[0m\n\u001b[0m",
      "\u001b[1;31mNameError\u001b[0m: name 'tf' is not defined"
     ]
    }
   ],
   "source": [
    "tf.__version__"
   ]
  },
  {
   "cell_type": "markdown",
   "metadata": {
    "colab_type": "text",
    "id": "1E0Q3aoKUCRX"
   },
   "source": [
    "## Part 1 - Data Preprocessing\n",
    "#### Take about 70% work of a DataScientist"
   ]
  },
  {
   "cell_type": "markdown",
   "metadata": {},
   "source": [
    "### Importing the dataset"
   ]
  },
  {
   "cell_type": "code",
   "execution_count": 6,
   "metadata": {},
   "outputs": [],
   "source": [
    "dataset = pd.read_csv('Churn_Modelling.csv')\n",
    "X = dataset.iloc[:, 3:-1].values\n",
    "y = dataset.iloc[:, -1].values"
   ]
  },
  {
   "cell_type": "code",
   "execution_count": 5,
   "metadata": {
    "scrolled": true
   },
   "outputs": [
    {
     "data": {
      "text/html": [
       "<div>\n",
       "<style scoped>\n",
       "    .dataframe tbody tr th:only-of-type {\n",
       "        vertical-align: middle;\n",
       "    }\n",
       "\n",
       "    .dataframe tbody tr th {\n",
       "        vertical-align: top;\n",
       "    }\n",
       "\n",
       "    .dataframe thead th {\n",
       "        text-align: right;\n",
       "    }\n",
       "</style>\n",
       "<table border=\"1\" class=\"dataframe\">\n",
       "  <thead>\n",
       "    <tr style=\"text-align: right;\">\n",
       "      <th></th>\n",
       "      <th>RowNumber</th>\n",
       "      <th>CustomerId</th>\n",
       "      <th>Surname</th>\n",
       "      <th>CreditScore</th>\n",
       "      <th>Geography</th>\n",
       "      <th>Gender</th>\n",
       "      <th>Age</th>\n",
       "      <th>Tenure</th>\n",
       "      <th>Balance</th>\n",
       "      <th>NumOfProducts</th>\n",
       "      <th>HasCrCard</th>\n",
       "      <th>IsActiveMember</th>\n",
       "      <th>EstimatedSalary</th>\n",
       "      <th>Exited</th>\n",
       "    </tr>\n",
       "  </thead>\n",
       "  <tbody>\n",
       "    <tr>\n",
       "      <th>0</th>\n",
       "      <td>1</td>\n",
       "      <td>15634602</td>\n",
       "      <td>Hargrave</td>\n",
       "      <td>619</td>\n",
       "      <td>France</td>\n",
       "      <td>Female</td>\n",
       "      <td>42</td>\n",
       "      <td>2</td>\n",
       "      <td>0.00</td>\n",
       "      <td>1</td>\n",
       "      <td>1</td>\n",
       "      <td>1</td>\n",
       "      <td>101348.88</td>\n",
       "      <td>1</td>\n",
       "    </tr>\n",
       "    <tr>\n",
       "      <th>1</th>\n",
       "      <td>2</td>\n",
       "      <td>15647311</td>\n",
       "      <td>Hill</td>\n",
       "      <td>608</td>\n",
       "      <td>Spain</td>\n",
       "      <td>Female</td>\n",
       "      <td>41</td>\n",
       "      <td>1</td>\n",
       "      <td>83807.86</td>\n",
       "      <td>1</td>\n",
       "      <td>0</td>\n",
       "      <td>1</td>\n",
       "      <td>112542.58</td>\n",
       "      <td>0</td>\n",
       "    </tr>\n",
       "    <tr>\n",
       "      <th>2</th>\n",
       "      <td>3</td>\n",
       "      <td>15619304</td>\n",
       "      <td>Onio</td>\n",
       "      <td>502</td>\n",
       "      <td>France</td>\n",
       "      <td>Female</td>\n",
       "      <td>42</td>\n",
       "      <td>8</td>\n",
       "      <td>159660.80</td>\n",
       "      <td>3</td>\n",
       "      <td>1</td>\n",
       "      <td>0</td>\n",
       "      <td>113931.57</td>\n",
       "      <td>1</td>\n",
       "    </tr>\n",
       "    <tr>\n",
       "      <th>3</th>\n",
       "      <td>4</td>\n",
       "      <td>15701354</td>\n",
       "      <td>Boni</td>\n",
       "      <td>699</td>\n",
       "      <td>France</td>\n",
       "      <td>Female</td>\n",
       "      <td>39</td>\n",
       "      <td>1</td>\n",
       "      <td>0.00</td>\n",
       "      <td>2</td>\n",
       "      <td>0</td>\n",
       "      <td>0</td>\n",
       "      <td>93826.63</td>\n",
       "      <td>0</td>\n",
       "    </tr>\n",
       "    <tr>\n",
       "      <th>4</th>\n",
       "      <td>5</td>\n",
       "      <td>15737888</td>\n",
       "      <td>Mitchell</td>\n",
       "      <td>850</td>\n",
       "      <td>Spain</td>\n",
       "      <td>Female</td>\n",
       "      <td>43</td>\n",
       "      <td>2</td>\n",
       "      <td>125510.82</td>\n",
       "      <td>1</td>\n",
       "      <td>1</td>\n",
       "      <td>1</td>\n",
       "      <td>79084.10</td>\n",
       "      <td>0</td>\n",
       "    </tr>\n",
       "  </tbody>\n",
       "</table>\n",
       "</div>"
      ],
      "text/plain": [
       "   RowNumber  CustomerId   Surname  CreditScore Geography  Gender  Age  \\\n",
       "0          1    15634602  Hargrave          619    France  Female   42   \n",
       "1          2    15647311      Hill          608     Spain  Female   41   \n",
       "2          3    15619304      Onio          502    France  Female   42   \n",
       "3          4    15701354      Boni          699    France  Female   39   \n",
       "4          5    15737888  Mitchell          850     Spain  Female   43   \n",
       "\n",
       "   Tenure    Balance  NumOfProducts  HasCrCard  IsActiveMember  \\\n",
       "0       2       0.00              1          1               1   \n",
       "1       1   83807.86              1          0               1   \n",
       "2       8  159660.80              3          1               0   \n",
       "3       1       0.00              2          0               0   \n",
       "4       2  125510.82              1          1               1   \n",
       "\n",
       "   EstimatedSalary  Exited  \n",
       "0        101348.88       1  \n",
       "1        112542.58       0  \n",
       "2        113931.57       1  \n",
       "3         93826.63       0  \n",
       "4         79084.10       0  "
      ]
     },
     "execution_count": 5,
     "metadata": {},
     "output_type": "execute_result"
    }
   ],
   "source": [
    "dataset.head()"
   ]
  },
  {
   "cell_type": "code",
   "execution_count": 7,
   "metadata": {},
   "outputs": [
    {
     "name": "stdout",
     "output_type": "stream",
     "text": [
      "[[619 'France' 'Female' ... 1 1 101348.88]\n",
      " [608 'Spain' 'Female' ... 0 1 112542.58]\n",
      " [502 'France' 'Female' ... 1 0 113931.57]\n",
      " ...\n",
      " [709 'France' 'Female' ... 0 1 42085.58]\n",
      " [772 'Germany' 'Male' ... 1 0 92888.52]\n",
      " [792 'France' 'Female' ... 1 0 38190.78]]\n"
     ]
    }
   ],
   "source": [
    "print(X)"
   ]
  },
  {
   "cell_type": "code",
   "execution_count": 8,
   "metadata": {},
   "outputs": [
    {
     "name": "stdout",
     "output_type": "stream",
     "text": [
      "[1 0 1 ... 1 1 0]\n"
     ]
    }
   ],
   "source": [
    "print(y)"
   ]
  },
  {
   "cell_type": "code",
   "execution_count": 10,
   "metadata": {},
   "outputs": [
    {
     "data": {
      "text/plain": [
       "RowNumber          10000\n",
       "CustomerId         10000\n",
       "Surname            10000\n",
       "CreditScore        10000\n",
       "Geography          10000\n",
       "Gender             10000\n",
       "Age                10000\n",
       "Tenure             10000\n",
       "Balance            10000\n",
       "NumOfProducts      10000\n",
       "HasCrCard          10000\n",
       "IsActiveMember     10000\n",
       "EstimatedSalary    10000\n",
       "Exited             10000\n",
       "dtype: int64"
      ]
     },
     "execution_count": 10,
     "metadata": {},
     "output_type": "execute_result"
    }
   ],
   "source": [
    "dataset.isna().count()"
   ]
  },
  {
   "cell_type": "markdown",
   "metadata": {
    "colab_type": "text",
    "id": "N6bQ0UgSU-NJ"
   },
   "source": [
    "### Encoding categorical data"
   ]
  },
  {
   "cell_type": "markdown",
   "metadata": {
    "colab_type": "text",
    "id": "le5MJreAbW52"
   },
   "source": [
    "Label Encoding the \"Gender\" column"
   ]
  },
  {
   "cell_type": "code",
   "execution_count": 11,
   "metadata": {},
   "outputs": [],
   "source": [
    "from sklearn.preprocessing import LabelEncoder\n",
    "le = LabelEncoder()\n",
    "X[:, 2] = le.fit_transform(X[:, 2])"
   ]
  },
  {
   "cell_type": "code",
   "execution_count": 13,
   "metadata": {},
   "outputs": [
    {
     "name": "stdout",
     "output_type": "stream",
     "text": [
      "[[619 'France' 0 ... 1 1 101348.88]\n",
      " [608 'Spain' 0 ... 0 1 112542.58]\n",
      " [502 'France' 0 ... 1 0 113931.57]\n",
      " ...\n",
      " [709 'France' 0 ... 0 1 42085.58]\n",
      " [772 'Germany' 1 ... 1 0 92888.52]\n",
      " [792 'France' 0 ... 1 0 38190.78]]\n"
     ]
    }
   ],
   "source": [
    "#encoded is 0=female, 1=male\n",
    "print(X)"
   ]
  },
  {
   "cell_type": "markdown",
   "metadata": {
    "colab_type": "text",
    "id": "CUxGZezpbMcb"
   },
   "source": [
    "One Hot Encoding the \"Geography\" column\n",
    "No order relationship between France, Spain, Germany that is why we can not encode to 1,2,3"
   ]
  },
  {
   "cell_type": "code",
   "execution_count": 14,
   "metadata": {},
   "outputs": [],
   "source": [
    "from sklearn.compose import ColumnTransformer\n",
    "from sklearn.preprocessing import OneHotEncoder\n",
    "ct = ColumnTransformer(transformers=[('encoder', OneHotEncoder(), [1])], remainder='passthrough')\n",
    "X = np.array(ct.fit_transform(X))"
   ]
  },
  {
   "cell_type": "code",
   "execution_count": 15,
   "metadata": {},
   "outputs": [
    {
     "name": "stdout",
     "output_type": "stream",
     "text": [
      "[[1.0 0.0 0.0 ... 1 1 101348.88]\n",
      " [0.0 0.0 1.0 ... 0 1 112542.58]\n",
      " [1.0 0.0 0.0 ... 1 0 113931.57]\n",
      " ...\n",
      " [1.0 0.0 0.0 ... 0 1 42085.58]\n",
      " [0.0 1.0 0.0 ... 1 0 92888.52]\n",
      " [1.0 0.0 0.0 ... 1 0 38190.78]]\n"
     ]
    }
   ],
   "source": [
    "print(X)"
   ]
  },
  {
   "cell_type": "markdown",
   "metadata": {
    "colab_type": "text",
    "id": "vHol938cW8zd"
   },
   "source": [
    "### Splitting the dataset into the Training set and Test set"
   ]
  },
  {
   "cell_type": "code",
   "execution_count": 16,
   "metadata": {},
   "outputs": [],
   "source": [
    "from sklearn.model_selection import train_test_split\n",
    "X_train, X_test, y_train, y_test = train_test_split(X, y, test_size = 0.2, random_state = 0)"
   ]
  },
  {
   "cell_type": "markdown",
   "metadata": {
    "colab_type": "text",
    "id": "RE_FcHyfV3TQ"
   },
   "source": [
    "### Feature Scaling\n",
    "#### Absolutely compulsory in DeepLearning, apply to all features to both training and test set\n",
    "\n"
   ]
  },
  {
   "cell_type": "code",
   "execution_count": 17,
   "metadata": {},
   "outputs": [],
   "source": [
    "from sklearn.preprocessing import StandardScaler\n",
    "sc = StandardScaler()\n",
    "X_train = sc.fit_transform(X_train)#fitted to training set to avoid information leakage\n",
    "X_test = sc.transform(X_test)"
   ]
  },
  {
   "cell_type": "markdown",
   "metadata": {
    "colab_type": "text",
    "id": "-zfEzkRVXIwF"
   },
   "source": [
    "## Part 2 - Building the ANN(Brain)"
   ]
  },
  {
   "cell_type": "markdown",
   "metadata": {
    "colab_type": "text",
    "id": "KvdeScabXtlB"
   },
   "source": [
    "### Initializing the ANN"
   ]
  },
  {
   "cell_type": "code",
   "execution_count": 18,
   "metadata": {},
   "outputs": [],
   "source": [
    "ann = tf.keras.models.Sequential()"
   ]
  },
  {
   "cell_type": "markdown",
   "metadata": {
    "colab_type": "text",
    "id": "rP6urV6SX7kS"
   },
   "source": [
    "### Adding the input layer and the first hidden layer\n",
    "#### There is no rule of thumb of how many Neurons we want, we have to experiment with different hyperparameters."
   ]
  },
  {
   "cell_type": "code",
   "execution_count": 19,
   "metadata": {},
   "outputs": [
    {
     "name": "stderr",
     "output_type": "stream",
     "text": [
      "WARNING: Logging before flag parsing goes to stderr.\n",
      "W1024 12:51:05.203107 27284 deprecation.py:506] From C:\\Users\\catan\\.conda\\envs\\catanEnv\\lib\\site-packages\\tensorflow\\python\\ops\\init_ops.py:1251: calling VarianceScaling.__init__ (from tensorflow.python.ops.init_ops) with dtype is deprecated and will be removed in a future version.\n",
      "Instructions for updating:\n",
      "Call initializer instance with the dtype argument instead of passing it to the constructor\n"
     ]
    }
   ],
   "source": [
    "ann.add(tf.keras.layers.Dense(units=6, activation='relu'  ))#relu is rectifier activation function"
   ]
  },
  {
   "cell_type": "markdown",
   "metadata": {
    "colab_type": "text",
    "id": "BELWAc_8YJze"
   },
   "source": [
    "### Adding the second hidden layer"
   ]
  },
  {
   "cell_type": "code",
   "execution_count": 20,
   "metadata": {},
   "outputs": [],
   "source": [
    "ann.add(tf.keras.layers.Dense(units=6, activation='relu'  ))"
   ]
  },
  {
   "cell_type": "markdown",
   "metadata": {
    "colab_type": "text",
    "id": "OyNEe6RXYcU4"
   },
   "source": [
    "### Adding the output layer"
   ]
  },
  {
   "cell_type": "code",
   "execution_count": 22,
   "metadata": {},
   "outputs": [],
   "source": [
    "ann.add(tf.keras.layers.Dense(units=1, activation='sigmoid'  ))#output neuron=1 coz it binary, sigmoid activation for output of probability of 1 or 0 "
   ]
  },
  {
   "cell_type": "markdown",
   "metadata": {
    "colab_type": "text",
    "id": "JT4u2S1_Y4WG"
   },
   "source": [
    "## Part 3 - Training the ANN(Brain will learn)"
   ]
  },
  {
   "cell_type": "markdown",
   "metadata": {
    "colab_type": "text",
    "id": "8GWlJChhY_ZI"
   },
   "source": [
    "### Compiling the ANN"
   ]
  },
  {
   "cell_type": "code",
   "execution_count": 23,
   "metadata": {},
   "outputs": [],
   "source": [
    "ann.compile(optimizer='adam', loss ='binary_crossentropy', metrics = ['accuracy'] )\n",
    "#adam,perform stochastic gradient descent which update weight to reduce loss error between prediction and real result.\n",
    "#binary_crossentropy,loss function for binary classification, activation should be softmax\n",
    "#categorical_crossentropy,for function for non-binary classification, ex 3 category. activation should softmax not sigmoid\n",
    "#check regrssion sample, for regression output"
   ]
  },
  {
   "cell_type": "markdown",
   "metadata": {
    "colab_type": "text",
    "id": "0QR_G5u7ZLSM"
   },
   "source": [
    "### Training the ANN on the Training set"
   ]
  },
  {
   "cell_type": "code",
   "execution_count": 25,
   "metadata": {},
   "outputs": [
    {
     "name": "stderr",
     "output_type": "stream",
     "text": [
      "W1024 13:15:23.810964 27284 deprecation.py:323] From C:\\Users\\catan\\.conda\\envs\\catanEnv\\lib\\site-packages\\tensorflow\\python\\ops\\nn_impl.py:180: add_dispatch_support.<locals>.wrapper (from tensorflow.python.ops.array_ops) is deprecated and will be removed in a future version.\n",
      "Instructions for updating:\n",
      "Use tf.where in 2.0, which has the same broadcast rule as np.where\n"
     ]
    },
    {
     "name": "stdout",
     "output_type": "stream",
     "text": [
      "Epoch 1/100\n",
      "8000/8000 [==============================] - 1s 80us/sample - loss: 0.5401 - acc: 0.7714\n",
      "Epoch 2/100\n",
      "8000/8000 [==============================] - 0s 32us/sample - loss: 0.4598 - acc: 0.8055\n",
      "Epoch 3/100\n",
      "8000/8000 [==============================] - 0s 33us/sample - loss: 0.4377 - acc: 0.8106\n",
      "Epoch 4/100\n",
      "8000/8000 [==============================] - 0s 32us/sample - loss: 0.4267 - acc: 0.8165\n",
      "Epoch 5/100\n",
      "8000/8000 [==============================] - 0s 32us/sample - loss: 0.4196 - acc: 0.8206\n",
      "Epoch 6/100\n",
      "8000/8000 [==============================] - 0s 33us/sample - loss: 0.4135 - acc: 0.8217\n",
      "Epoch 7/100\n",
      "8000/8000 [==============================] - 0s 33us/sample - loss: 0.4080 - acc: 0.8238\n",
      "Epoch 8/100\n",
      "8000/8000 [==============================] - 0s 32us/sample - loss: 0.4023 - acc: 0.8291\n",
      "Epoch 9/100\n",
      "8000/8000 [==============================] - 0s 32us/sample - loss: 0.3964 - acc: 0.8335\n",
      "Epoch 10/100\n",
      "8000/8000 [==============================] - 0s 33us/sample - loss: 0.3903 - acc: 0.8359\n",
      "Epoch 11/100\n",
      "8000/8000 [==============================] - 0s 33us/sample - loss: 0.3846 - acc: 0.8374\n",
      "Epoch 12/100\n",
      "8000/8000 [==============================] - 0s 33us/sample - loss: 0.3783 - acc: 0.8415\n",
      "Epoch 13/100\n",
      "8000/8000 [==============================] - 0s 32us/sample - loss: 0.3726 - acc: 0.8434\n",
      "Epoch 14/100\n",
      "8000/8000 [==============================] - 0s 33us/sample - loss: 0.3671 - acc: 0.8453\n",
      "Epoch 15/100\n",
      "8000/8000 [==============================] - 0s 32us/sample - loss: 0.3626 - acc: 0.8474\n",
      "Epoch 16/100\n",
      "8000/8000 [==============================] - 0s 32us/sample - loss: 0.3584 - acc: 0.8501\n",
      "Epoch 17/100\n",
      "8000/8000 [==============================] - 0s 33us/sample - loss: 0.3547 - acc: 0.8528\n",
      "Epoch 18/100\n",
      "8000/8000 [==============================] - 0s 34us/sample - loss: 0.3517 - acc: 0.8554\n",
      "Epoch 19/100\n",
      "8000/8000 [==============================] - 0s 40us/sample - loss: 0.3492 - acc: 0.8576\n",
      "Epoch 20/100\n",
      "8000/8000 [==============================] - 0s 35us/sample - loss: 0.3477 - acc: 0.8568\n",
      "Epoch 21/100\n",
      "8000/8000 [==============================] - 0s 39us/sample - loss: 0.3461 - acc: 0.8584\n",
      "Epoch 22/100\n",
      "8000/8000 [==============================] - 0s 37us/sample - loss: 0.3453 - acc: 0.8608\n",
      "Epoch 23/100\n",
      "8000/8000 [==============================] - 0s 32us/sample - loss: 0.3443 - acc: 0.8614\n",
      "Epoch 24/100\n",
      "8000/8000 [==============================] - 0s 31us/sample - loss: 0.3435 - acc: 0.8618\n",
      "Epoch 25/100\n",
      "8000/8000 [==============================] - 0s 32us/sample - loss: 0.3426 - acc: 0.8625\n",
      "Epoch 26/100\n",
      "8000/8000 [==============================] - 0s 32us/sample - loss: 0.3420 - acc: 0.8618\n",
      "Epoch 27/100\n",
      "8000/8000 [==============================] - 0s 34us/sample - loss: 0.3413 - acc: 0.8636\n",
      "Epoch 28/100\n",
      "8000/8000 [==============================] - 0s 32us/sample - loss: 0.3406 - acc: 0.8634\n",
      "Epoch 29/100\n",
      "8000/8000 [==============================] - 0s 34us/sample - loss: 0.3401 - acc: 0.8635\n",
      "Epoch 30/100\n",
      "8000/8000 [==============================] - 0s 31us/sample - loss: 0.3401 - acc: 0.8635\n",
      "Epoch 31/100\n",
      "8000/8000 [==============================] - 0s 32us/sample - loss: 0.3394 - acc: 0.8662\n",
      "Epoch 32/100\n",
      "8000/8000 [==============================] - 0s 32us/sample - loss: 0.3393 - acc: 0.8630\n",
      "Epoch 33/100\n",
      "8000/8000 [==============================] - 0s 36us/sample - loss: 0.3392 - acc: 0.8641\n",
      "Epoch 34/100\n",
      "8000/8000 [==============================] - 0s 36us/sample - loss: 0.3385 - acc: 0.8652\n",
      "Epoch 35/100\n",
      "8000/8000 [==============================] - 0s 35us/sample - loss: 0.3381 - acc: 0.8637\n",
      "Epoch 36/100\n",
      "8000/8000 [==============================] - 0s 31us/sample - loss: 0.3381 - acc: 0.8646\n",
      "Epoch 37/100\n",
      "8000/8000 [==============================] - 0s 31us/sample - loss: 0.3379 - acc: 0.8640\n",
      "Epoch 38/100\n",
      "8000/8000 [==============================] - 0s 32us/sample - loss: 0.3378 - acc: 0.8649\n",
      "Epoch 39/100\n",
      "8000/8000 [==============================] - 0s 33us/sample - loss: 0.3375 - acc: 0.8655\n",
      "Epoch 40/100\n",
      "8000/8000 [==============================] - 0s 32us/sample - loss: 0.3372 - acc: 0.8649\n",
      "Epoch 41/100\n",
      "8000/8000 [==============================] - 0s 31us/sample - loss: 0.3369 - acc: 0.8650\n",
      "Epoch 42/100\n",
      "8000/8000 [==============================] - 0s 32us/sample - loss: 0.3368 - acc: 0.8665\n",
      "Epoch 43/100\n",
      "8000/8000 [==============================] - 0s 32us/sample - loss: 0.3371 - acc: 0.8641\n",
      "Epoch 44/100\n",
      "8000/8000 [==============================] - 0s 32us/sample - loss: 0.3364 - acc: 0.8656\n",
      "Epoch 45/100\n",
      "8000/8000 [==============================] - 0s 32us/sample - loss: 0.3363 - acc: 0.8649\n",
      "Epoch 46/100\n",
      "8000/8000 [==============================] - ETA: 0s - loss: 0.3384 - acc: 0.862 - 0s 37us/sample - loss: 0.3363 - acc: 0.8644\n",
      "Epoch 47/100\n",
      "8000/8000 [==============================] - 0s 37us/sample - loss: 0.3361 - acc: 0.8660\n",
      "Epoch 48/100\n",
      "8000/8000 [==============================] - 0s 34us/sample - loss: 0.3361 - acc: 0.8655\n",
      "Epoch 49/100\n",
      "8000/8000 [==============================] - 0s 32us/sample - loss: 0.3359 - acc: 0.8654\n",
      "Epoch 50/100\n",
      "8000/8000 [==============================] - 0s 33us/sample - loss: 0.3354 - acc: 0.8655\n",
      "Epoch 51/100\n",
      "8000/8000 [==============================] - 0s 33us/sample - loss: 0.3359 - acc: 0.8636\n",
      "Epoch 52/100\n",
      "8000/8000 [==============================] - 0s 33us/sample - loss: 0.3356 - acc: 0.8641\n",
      "Epoch 53/100\n",
      "8000/8000 [==============================] - 0s 32us/sample - loss: 0.3353 - acc: 0.8664\n",
      "Epoch 54/100\n",
      "8000/8000 [==============================] - 0s 32us/sample - loss: 0.3357 - acc: 0.8652\n",
      "Epoch 55/100\n",
      "8000/8000 [==============================] - 0s 31us/sample - loss: 0.3353 - acc: 0.8660\n",
      "Epoch 56/100\n",
      "8000/8000 [==============================] - 0s 31us/sample - loss: 0.3354 - acc: 0.8643\n",
      "Epoch 57/100\n",
      "8000/8000 [==============================] - 0s 36us/sample - loss: 0.3353 - acc: 0.8645\n",
      "Epoch 58/100\n",
      "8000/8000 [==============================] - 0s 37us/sample - loss: 0.3354 - acc: 0.8650\n",
      "Epoch 59/100\n",
      "8000/8000 [==============================] - 0s 33us/sample - loss: 0.3348 - acc: 0.8651\n",
      "Epoch 60/100\n",
      "8000/8000 [==============================] - ETA: 0s - loss: 0.3335 - acc: 0.865 - 0s 30us/sample - loss: 0.3348 - acc: 0.8645\n",
      "Epoch 61/100\n",
      "8000/8000 [==============================] - 0s 39us/sample - loss: 0.3349 - acc: 0.8645\n",
      "Epoch 62/100\n",
      "8000/8000 [==============================] - 0s 33us/sample - loss: 0.3346 - acc: 0.8648\n",
      "Epoch 63/100\n",
      "8000/8000 [==============================] - 0s 31us/sample - loss: 0.3349 - acc: 0.8654\n",
      "Epoch 64/100\n",
      "8000/8000 [==============================] - 0s 31us/sample - loss: 0.3345 - acc: 0.8651\n",
      "Epoch 65/100\n",
      "8000/8000 [==============================] - 0s 31us/sample - loss: 0.3343 - acc: 0.8644\n",
      "Epoch 66/100\n",
      "8000/8000 [==============================] - 0s 31us/sample - loss: 0.3341 - acc: 0.8651\n",
      "Epoch 67/100\n",
      "8000/8000 [==============================] - 0s 31us/sample - loss: 0.3343 - acc: 0.8649\n",
      "Epoch 68/100\n",
      "8000/8000 [==============================] - 0s 31us/sample - loss: 0.3339 - acc: 0.8651\n",
      "Epoch 69/100\n",
      "8000/8000 [==============================] - 0s 31us/sample - loss: 0.3339 - acc: 0.8641\n",
      "Epoch 70/100\n",
      "8000/8000 [==============================] - 0s 34us/sample - loss: 0.3341 - acc: 0.8643\n",
      "Epoch 71/100\n",
      "8000/8000 [==============================] - 0s 33us/sample - loss: 0.3341 - acc: 0.8637\n",
      "Epoch 72/100\n",
      "8000/8000 [==============================] - 0s 35us/sample - loss: 0.3337 - acc: 0.8648\n",
      "Epoch 73/100\n",
      "8000/8000 [==============================] - 0s 34us/sample - loss: 0.3343 - acc: 0.8634\n",
      "Epoch 74/100\n",
      "8000/8000 [==============================] - 0s 33us/sample - loss: 0.3338 - acc: 0.8654\n",
      "Epoch 75/100\n",
      "8000/8000 [==============================] - 0s 33us/sample - loss: 0.3338 - acc: 0.8648\n",
      "Epoch 76/100\n",
      "8000/8000 [==============================] - 0s 32us/sample - loss: 0.3335 - acc: 0.8645\n",
      "Epoch 77/100\n",
      "8000/8000 [==============================] - 0s 33us/sample - loss: 0.3336 - acc: 0.8643\n",
      "Epoch 78/100\n",
      "8000/8000 [==============================] - 0s 32us/sample - loss: 0.3334 - acc: 0.8627\n",
      "Epoch 79/100\n",
      "8000/8000 [==============================] - 0s 36us/sample - loss: 0.3331 - acc: 0.8640\n",
      "Epoch 80/100\n",
      "8000/8000 [==============================] - 0s 35us/sample - loss: 0.3336 - acc: 0.8643\n",
      "Epoch 81/100\n",
      "8000/8000 [==============================] - 0s 35us/sample - loss: 0.3338 - acc: 0.8640\n",
      "Epoch 82/100\n",
      "8000/8000 [==============================] - 0s 32us/sample - loss: 0.3333 - acc: 0.8631\n",
      "Epoch 83/100\n",
      "8000/8000 [==============================] - 0s 30us/sample - loss: 0.3334 - acc: 0.8639\n",
      "Epoch 84/100\n",
      "8000/8000 [==============================] - 0s 31us/sample - loss: 0.3336 - acc: 0.8644\n",
      "Epoch 85/100\n",
      "8000/8000 [==============================] - 0s 31us/sample - loss: 0.3332 - acc: 0.8640\n",
      "Epoch 86/100\n",
      "8000/8000 [==============================] - 0s 31us/sample - loss: 0.3332 - acc: 0.8640\n",
      "Epoch 87/100\n",
      "8000/8000 [==============================] - ETA: 0s - loss: 0.3385 - acc: 0.862 - 0s 31us/sample - loss: 0.3334 - acc: 0.8640\n",
      "Epoch 88/100\n",
      "8000/8000 [==============================] - 0s 31us/sample - loss: 0.3334 - acc: 0.8644\n",
      "Epoch 89/100\n",
      "8000/8000 [==============================] - 0s 33us/sample - loss: 0.3338 - acc: 0.8640\n",
      "Epoch 90/100\n",
      "8000/8000 [==============================] - 0s 32us/sample - loss: 0.3330 - acc: 0.8634\n",
      "Epoch 91/100\n",
      "8000/8000 [==============================] - 0s 33us/sample - loss: 0.3332 - acc: 0.8643\n",
      "Epoch 92/100\n",
      "8000/8000 [==============================] - 0s 32us/sample - loss: 0.3326 - acc: 0.8651\n",
      "Epoch 93/100\n",
      "8000/8000 [==============================] - 0s 33us/sample - loss: 0.3328 - acc: 0.8625\n",
      "Epoch 94/100\n",
      "8000/8000 [==============================] - 0s 31us/sample - loss: 0.3330 - acc: 0.8636\n",
      "Epoch 95/100\n",
      "8000/8000 [==============================] - 0s 31us/sample - loss: 0.3328 - acc: 0.8626\n",
      "Epoch 96/100\n",
      "8000/8000 [==============================] - 0s 31us/sample - loss: 0.3328 - acc: 0.8649\n",
      "Epoch 97/100\n",
      "8000/8000 [==============================] - 0s 34us/sample - loss: 0.3327 - acc: 0.8645\n",
      "Epoch 98/100\n",
      "8000/8000 [==============================] - 0s 33us/sample - loss: 0.3327 - acc: 0.8634\n",
      "Epoch 99/100\n",
      "8000/8000 [==============================] - 0s 32us/sample - loss: 0.3327 - acc: 0.8651\n",
      "Epoch 100/100\n",
      "8000/8000 [==============================] - 0s 34us/sample - loss: 0.3325 - acc: 0.8636\n"
     ]
    },
    {
     "data": {
      "text/plain": [
       "<tensorflow.python.keras.callbacks.History at 0x1f6b11550c8>"
      ]
     },
     "execution_count": 25,
     "metadata": {},
     "output_type": "execute_result"
    }
   ],
   "source": [
    "ann.fit(X_train, y_train, batch_size = 32, epochs = 100)\n",
    "#batch_size = 32 default value\n",
    "#epochs=100, neural network is certainly need to train in a certain amount of epochs to able to learn about the data and to improve accuracy overtime"
   ]
  },
  {
   "cell_type": "markdown",
   "metadata": {
    "colab_type": "text",
    "id": "tJj5k2MxZga3"
   },
   "source": [
    "## Part 4 - Making the predictions and evaluating the model"
   ]
  },
  {
   "cell_type": "markdown",
   "metadata": {
    "colab_type": "text",
    "id": "84QFoqGYeXHL"
   },
   "source": [
    "### Predicting the result of a single observation"
   ]
  },
  {
   "cell_type": "markdown",
   "metadata": {
    "colab_type": "text",
    "id": "CGRo3eacgDdC"
   },
   "source": [
    "**Homework**\n",
    "\n",
    "Use our ANN model to predict if the customer with the following informations will leave the bank: \n",
    "\n",
    "Geography: France\n",
    "\n",
    "Credit Score: 600\n",
    "\n",
    "Gender: Male\n",
    "\n",
    "Age: 40 years old\n",
    "\n",
    "Tenure: 3 years\n",
    "\n",
    "Balance: \\$ 60000\n",
    "\n",
    "Number of Products: 2\n",
    "\n",
    "Does this customer have a credit card ? Yes\n",
    "\n",
    "Is this customer an Active Member: Yes\n",
    "\n",
    "Estimated Salary: \\$ 50000\n",
    "\n",
    "So, should we say goodbye to that customer ?"
   ]
  },
  {
   "cell_type": "markdown",
   "metadata": {
    "colab_type": "text",
    "id": "ZhU1LTgPg-kH"
   },
   "source": [
    "**Solution**"
   ]
  },
  {
   "cell_type": "code",
   "execution_count": 30,
   "metadata": {},
   "outputs": [
    {
     "name": "stdout",
     "output_type": "stream",
     "text": [
      "[[0.02121088]]\n"
     ]
    }
   ],
   "source": [
    "print(ann.predict(sc.transform([[1,0,0, 600, 1, 40, 3, 6000, 2, 1, 1, 50000]]))) #result in probability"
   ]
  },
  {
   "cell_type": "code",
   "execution_count": 31,
   "metadata": {},
   "outputs": [
    {
     "name": "stdout",
     "output_type": "stream",
     "text": [
      "[[False]]\n"
     ]
    }
   ],
   "source": [
    "print(ann.predict(sc.transform([[1,0,0, 600, 1, 40, 3, 6000, 2, 1, 1, 50000]])) > 0.5)"
   ]
  },
  {
   "cell_type": "markdown",
   "metadata": {},
   "source": [
    "\n",
    "\n",
    "\n",
    "\n",
    "Therefore, our ANN model predicts that this customer stays in the bank!\n",
    "\n",
    "**Important note 1:** Notice that the values of the features were all input in a double pair of square brackets. That's because the \"predict\" method always expects a 2D array as the format of its inputs. And putting our values into a double pair of square brackets makes the input exactly a 2D array.\n",
    "\n",
    "**Important note 2:** Notice also that the \"France\" country was not input as a string in the last column but as \"1, 0, 0\" in the first three columns. That's because of course the predict method expects the one-hot-encoded values of the state, and as we see in the first row of the matrix of features X, \"France\" was encoded as \"1, 0, 0\". And be careful to include these values in the first three columns, because the dummy variables are always created in the first columns."
   ]
  },
  {
   "cell_type": "markdown",
   "metadata": {
    "colab_type": "text",
    "id": "u7yx47jPZt11"
   },
   "source": [
    "### Predicting the Test set results"
   ]
  },
  {
   "cell_type": "code",
   "execution_count": 33,
   "metadata": {},
   "outputs": [
    {
     "name": "stdout",
     "output_type": "stream",
     "text": [
      "[[0 0]\n",
      " [0 1]\n",
      " [0 0]\n",
      " ...\n",
      " [0 0]\n",
      " [0 0]\n",
      " [0 0]]\n"
     ]
    }
   ],
   "source": [
    "y_pred = ann.predict(X_test)\n",
    "y_pred = (y_pred > 0.5)\n",
    "print(np.concatenate((y_pred.reshape(len(y_pred),1), y_test.reshape(len(y_test),1)),1))"
   ]
  },
  {
   "cell_type": "markdown",
   "metadata": {
    "colab_type": "text",
    "id": "o0oyfLWoaEGw"
   },
   "source": [
    "### Making the Confusion Matrix"
   ]
  },
  {
   "cell_type": "code",
   "execution_count": 34,
   "metadata": {},
   "outputs": [
    {
     "name": "stdout",
     "output_type": "stream",
     "text": [
      "[[1517   78]\n",
      " [ 197  208]]\n"
     ]
    },
    {
     "data": {
      "text/plain": [
       "0.8625"
      ]
     },
     "execution_count": 34,
     "metadata": {},
     "output_type": "execute_result"
    }
   ],
   "source": [
    "from sklearn.metrics import confusion_matrix, accuracy_score\n",
    "cm = confusion_matrix(y_test, y_pred)\n",
    "print(cm)\n",
    "accuracy_score(y_test, y_pred)"
   ]
  },
  {
   "cell_type": "code",
   "execution_count": null,
   "metadata": {},
   "outputs": [],
   "source": []
  }
 ],
 "metadata": {
  "colab": {
   "collapsed_sections": [],
   "name": "artificial_neural_network.ipynb",
   "provenance": [],
   "toc_visible": true
  },
  "kernelspec": {
   "display_name": "Python 3 (ipykernel)",
   "language": "python",
   "name": "python3"
  },
  "language_info": {
   "codemirror_mode": {
    "name": "ipython",
    "version": 3
   },
   "file_extension": ".py",
   "mimetype": "text/x-python",
   "name": "python",
   "nbconvert_exporter": "python",
   "pygments_lexer": "ipython3",
   "version": "3.7.11"
  }
 },
 "nbformat": 4,
 "nbformat_minor": 1
}
